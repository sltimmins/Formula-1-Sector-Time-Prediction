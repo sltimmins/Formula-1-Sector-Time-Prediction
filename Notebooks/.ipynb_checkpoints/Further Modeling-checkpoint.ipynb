{
 "cells": [
  {
   "cell_type": "code",
   "execution_count": null,
   "metadata": {},
   "outputs": [],
   "source": [
    "import pandas as pd\n",
    "import numpy as np\n",
    "from sklearn.preprocessing import StandardScaler\n",
    "from sklearn.model_selection import train_test_split\n",
    "from sklearn.ensemble import RandomForestRegressor\n",
    "from sklearn.metrics import mean_squared_error, mean_absolute_error\n",
    "\n",
    "previous_three_sectors = pd.read_csv('data.csv')\n",
    "previous_three_sectors_norm = previous_three_sectors.copy()\n",
    "no_norm = ['Driver', 'Compound', 'Team', 'Track', 'FreshTyre', 'Sector1Time', 'Sector2Time', 'Sector3Time', 'NextSectorTime']\n",
    "cols_to_norm = [col for col in previous_three_sectors_norm.columns if col not in no_norm]\n",
    "ss = StandardScaler()\n",
    "previous_three_sectors_norm[cols_to_norm] = ss.fit_transform(previous_three_sectors_norm[cols_to_norm].values)\n",
    "X_train, X_test, y_train, y_test = train_test_split(previous_three_sectors_norm.loc[:, previous_three_sectors_norm.columns != 'NextSectorTime'].to_numpy(),\n",
    "                                                    previous_three_sectors_norm['NextSectorTime'].to_numpy(), test_size=0.2, random_state=42)\n",
    "\n",
    "regr = RandomForestRegressor(n_estimators=250, criterion='absolute_error', max_features='log2', bootstrap=False)\n",
    "regr.fit(X_train, y_train)\n",
    "pred = regr.predict(X_test)\n",
    "print(mean_squared_error(y_test, pred))\n",
    "print(mean_absolute_error(y_test, pred))\n",
    "for i in range(0, len(pred)):\n",
    "    print('Predicted: ', round(pred[i], 3), '\\tActual: ', y_test[i])"
   ]
  },
  {
   "cell_type": "code",
   "execution_count": null,
   "metadata": {},
   "outputs": [],
   "source": [
    "from sklearn.metrics import make_scorer\n",
    "\n",
    "def mse_mae(y_true, y_pred, *args, **kwargs):\n",
    "    loss = (mean_squared_error(y_true, y_pred) + mean_absolute_error(y_true, y_pred)) / 2\n",
    "    return loss\n",
    "\n"
   ]
  }
 ],
 "metadata": {
  "kernelspec": {
   "display_name": "Python 3 (ipykernel)",
   "language": "python",
   "name": "python3"
  },
  "language_info": {
   "name": "python"
  }
 },
 "nbformat": 4,
 "nbformat_minor": 2
}
